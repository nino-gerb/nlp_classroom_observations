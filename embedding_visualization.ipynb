{
 "cells": [
  {
   "cell_type": "code",
   "execution_count": 1,
   "metadata": {},
   "outputs": [
    {
     "name": "stdout",
     "output_type": "stream",
     "text": [
      "Directory 'data/teacher_discourse_data' found.\n",
      "Listing available files...\n",
      "\n",
      "Files in directory: ['cl06_pr2_dfm_segm_lemm_full.csv', 'cl08_pr1_corpus_segm_unlemm_full.csv', 'cl01_pr1_dfm_segm_lemm_full.csv', 'cl01_pr2_corpus_segm_unlemm_full.csv', 'cl07_pr2_dfm_segm_unlemm_full.csv', 'cl04_pr2_corpus_segm_unlemm_full.csv', 'cl09_pr2_dfm_segm_unlemm_full.csv', 'cl03_pr1_dfm_segm_unlemm_full.csv', 'cl09_pr2_corpus_segm_unlemm_full.csv', 'cl04_pr2_dfm_segm_unlemm_full.csv', 'cl06_pr1_dfm_segm_lemm_full.csv', 'cl05_pr1_corpus_segm_unlemm_full.csv', 'cl01_pr2_dfm_segm_lemm_full.csv', 'cl03_pr1_corpus_segm_unlemm_full.csv', 'cl02_pr2_dfm_segm_unlemm_full.csv', 'cl08_pr1_dfm_segm_unlemm_full.csv', 'cl06_pr1_dfm_segm_unlemm_full.csv', 'cl06_pr1_corpus_segm_unlemm_full.csv', 'cl07_pr1_dfm_segm_lemm_full.csv', 'cl07_pr2_dfm_segm_lemm_full.csv', 'cl02_pr2_corpus_segm_unlemm_full.csv', 'cl05_pr1_dfm_segm_unlemm_full.csv', 'cl01_pr2_dfm_segm_unlemm_full.csv', 'cl07_pr2_corpus_segm_unlemm_full.csv', 'cl07_pr1_corpus_segm_unlemm_full.csv', 'cl02_pr2_dfm_segm_lemm_full.csv', 'cl05_pr1_dfm_segm_lemm_full.csv', 'cl09_pr1_dfm_segm_lemm_full.csv', 'cl02_pr1_corpus_segm_unlemm_full.csv', 'cl04_pr1_dfm_segm_unlemm_full.csv', 'cl02_pr1_dfm_segm_lemm_full.csv', 'cl06_pr2_corpus_segm_unlemm_full.csv', 'cl09_pr2_dfm_segm_lemm_full.csv', 'cl07_pr1_dfm_segm_unlemm_full.csv', 'cl09_pr1_dfm_segm_unlemm_full.csv', 'cl05_pr2_dfm_segm_lemm_full.csv', 'cl03_pr2_dfm_segm_unlemm_full.csv', 'cl03_pr2_corpus_segm_unlemm_full.csv', 'cl05_pr2_dfm_segm_unlemm_full.csv', 'cl03_pr1_dfm_segm_lemm_full.csv', 'cl01_pr1_dfm_segm_unlemm_full.csv', 'cl05_pr2_corpus_segm_unlemm_full.csv', 'cl08_pr2_dfm_segm_lemm_full.csv', 'cl04_pr2_dfm_segm_lemm_full.csv', 'cl09_pr1_corpus_segm_unlemm_full.csv', 'cl04_pr1_corpus_segm_unlemm_full.csv', 'cl03_pr2_dfm_segm_lemm_full.csv', 'cl02_pr1_dfm_segm_unlemm_full.csv', 'cl08_pr2_corpus_segm_unlemm_full.csv', 'cl08_pr2_dfm_segm_unlemm_full.csv', 'cl06_pr2_dfm_segm_unlemm_full.csv', 'cl04_pr1_dfm_segm_lemm_full.csv', 'cl08_pr1_dfm_segm_lemm_full.csv', 'cl01_pr1_corpus_segm_unlemm_full.csv']\n",
      "Loading Corpus Data (18 files)...\n",
      "Loading DFM Lemm Data (18 files)...\n",
      "Loading DFM Unlemm Data (18 files)...\n"
     ]
    },
    {
     "name": "stderr",
     "output_type": "stream",
     "text": [
      "/var/folders/0k/43ckgrhd7cd68vbpqrmw9r240000gn/T/ipykernel_59836/2562339189.py:33: DtypeWarning: Columns (1297) have mixed types. Specify dtype option on import or set low_memory=False.\n",
      "  return pd.concat([pd.read_csv(f) for f in file_list], ignore_index=True)\n",
      "/var/folders/0k/43ckgrhd7cd68vbpqrmw9r240000gn/T/ipykernel_59836/2562339189.py:33: DtypeWarning: Columns (1292) have mixed types. Specify dtype option on import or set low_memory=False.\n",
      "  return pd.concat([pd.read_csv(f) for f in file_list], ignore_index=True)\n",
      "/var/folders/0k/43ckgrhd7cd68vbpqrmw9r240000gn/T/ipykernel_59836/2562339189.py:33: DtypeWarning: Columns (1039) have mixed types. Specify dtype option on import or set low_memory=False.\n",
      "  return pd.concat([pd.read_csv(f) for f in file_list], ignore_index=True)\n",
      "/var/folders/0k/43ckgrhd7cd68vbpqrmw9r240000gn/T/ipykernel_59836/2562339189.py:33: DtypeWarning: Columns (1039) have mixed types. Specify dtype option on import or set low_memory=False.\n",
      "  return pd.concat([pd.read_csv(f) for f in file_list], ignore_index=True)\n"
     ]
    },
    {
     "name": "stdout",
     "output_type": "stream",
     "text": [
      "\n",
      "Corpus Data Overview:\n",
      "<class 'pandas.core.frame.DataFrame'>\n",
      "RangeIndex: 8751 entries, 0 to 8750\n",
      "Data columns (total 38 columns):\n",
      " #   Column                        Non-Null Count  Dtype  \n",
      "---  ------                        --------------  -----  \n",
      " 0   Unnamed: 0                    8751 non-null   int64  \n",
      " 1   doc_id                        8751 non-null   object \n",
      " 2   text                          8751 non-null   object \n",
      " 3   timestamp                     8751 non-null   object \n",
      " 4   statement_duration            8751 non-null   float64\n",
      " 5   teacher_id                    8751 non-null   object \n",
      " 6   recipient                     8748 non-null   object \n",
      " 7   comment_didactic              340 non-null    object \n",
      " 8   comment_bugs                  17 non-null     object \n",
      " 9   time_slice                    8751 non-null   object \n",
      " 10  segment_source                8751 non-null   object \n",
      " 11  class_id                      8751 non-null   object \n",
      " 12  pupils_number                 8751 non-null   int64  \n",
      " 13  school_level                  8751 non-null   object \n",
      " 14  lesson_id                     8751 non-null   object \n",
      " 15  lesson_topic                  8751 non-null   object \n",
      " 16  programming_type              8751 non-null   object \n",
      " 17  number_of_teachers            8751 non-null   int64  \n",
      " 18  discourse_id                  8751 non-null   object \n",
      " 19  teacher_intent                8751 non-null   int64  \n",
      " 20  role_in_project               8751 non-null   object \n",
      " 21  gender                        8751 non-null   object \n",
      " 22  age_range                     8751 non-null   object \n",
      " 23  teaching_level                8751 non-null   object \n",
      " 24  number_of_disciplines         8751 non-null   object \n",
      " 25  disciplines                   8751 non-null   object \n",
      " 26  teaching_experience           8751 non-null   int64  \n",
      " 27  teaching_experience_range     8751 non-null   object \n",
      " 28  cs_teaching_experience        8751 non-null   int64  \n",
      " 29  cs_teaching_experience_range  8751 non-null   object \n",
      " 30  teacher_degree                8751 non-null   object \n",
      " 31  pre_or_in_service             8751 non-null   object \n",
      " 32  teacher_education_type        7905 non-null   object \n",
      " 33  cs_education_institution      8751 non-null   object \n",
      " 34  cs_education_type             6706 non-null   object \n",
      " 35  highest_diploma               8751 non-null   object \n",
      " 36  TPACK_score_didactics         8751 non-null   object \n",
      " 37  TPACK_score_content           8751 non-null   object \n",
      "dtypes: float64(1), int64(6), object(31)\n",
      "memory usage: 2.5+ MB\n",
      "None\n",
      "   Unnamed: 0            doc_id  \\\n",
      "0           1  cl08_pr1_text1_1   \n",
      "1           2  cl08_pr1_text2_1   \n",
      "2           3  cl08_pr1_text3_1   \n",
      "3           4  cl08_pr1_text4_1   \n",
      "4           5  cl08_pr1_text5_1   \n",
      "\n",
      "                                                text timestamp  \\\n",
      "0  Alors bonjour à tous! Alors… on est là aujourd...  00:00:00   \n",
      "1  Encore une! Ouais, ça, c'est l'avant-dernière....  00:00:20   \n",
      "2       Ouais c'est un bon début. Quoi d'autre? Oui?  00:00:35   \n",
      "3  Tu crées le début mais tu crées quoi sur l'ord...  00:00:44   \n",
      "4  Le programme… et puis il va servir à quoi ce p...  00:00:50   \n",
      "\n",
      "   statement_duration teacher_id recipient comment_didactic comment_bugs  \\\n",
      "0              17.819  teacher01     class              NaN          NaN   \n",
      "1               6.037  teacher01     class              NaN          NaN   \n",
      "2               2.112  teacher01     class              NaN          NaN   \n",
      "3               2.279  teacher01     class              NaN          NaN   \n",
      "4               5.054  teacher01     class              NaN          NaN   \n",
      "\n",
      "   time_slice  ... cs_teaching_experience        cs_teaching_experience_range  \\\n",
      "0  time[0-10]  ...                      0  no informatics teaching experience   \n",
      "1  time[0-10]  ...                      0  no informatics teaching experience   \n",
      "2  time[0-10]  ...                      0  no informatics teaching experience   \n",
      "3  time[0-10]  ...                      0  no informatics teaching experience   \n",
      "4  time[0-10]  ...                      0  no informatics teaching experience   \n",
      "\n",
      "           teacher_degree    pre_or_in_service  \\\n",
      "0  Primary teacher degree  Pre-service teacher   \n",
      "1  Primary teacher degree  Pre-service teacher   \n",
      "2  Primary teacher degree  Pre-service teacher   \n",
      "3  Primary teacher degree  Pre-service teacher   \n",
      "4  Primary teacher degree  Pre-service teacher   \n",
      "\n",
      "                     teacher_education_type  \\\n",
      "0  University of teacher education, 3 years   \n",
      "1  University of teacher education, 3 years   \n",
      "2  University of teacher education, 3 years   \n",
      "3  University of teacher education, 3 years   \n",
      "4  University of teacher education, 3 years   \n",
      "\n",
      "                         cs_education_institution  \\\n",
      "0  Informatics education during teacher education   \n",
      "1  Informatics education during teacher education   \n",
      "2  Informatics education during teacher education   \n",
      "3  Informatics education during teacher education   \n",
      "4  Informatics education during teacher education   \n",
      "\n",
      "                                   cs_education_type  \\\n",
      "0  Digital education modules (with informatics) i...   \n",
      "1  Digital education modules (with informatics) i...   \n",
      "2  Digital education modules (with informatics) i...   \n",
      "3  Digital education modules (with informatics) i...   \n",
      "4  Digital education modules (with informatics) i...   \n",
      "\n",
      "                      highest_diploma         TPACK_score_didactics  \\\n",
      "0  Highest diploma Gymnasial maturity  Didactical Competencies Fair   \n",
      "1  Highest diploma Gymnasial maturity  Didactical Competencies Fair   \n",
      "2  Highest diploma Gymnasial maturity  Didactical Competencies Fair   \n",
      "3  Highest diploma Gymnasial maturity  Didactical Competencies Fair   \n",
      "4  Highest diploma Gymnasial maturity  Didactical Competencies Fair   \n",
      "\n",
      "                       TPACK_score_content  \n",
      "0  Content and Technology Foundations Fair  \n",
      "1  Content and Technology Foundations Fair  \n",
      "2  Content and Technology Foundations Fair  \n",
      "3  Content and Technology Foundations Fair  \n",
      "4  Content and Technology Foundations Fair  \n",
      "\n",
      "[5 rows x 38 columns]\n",
      "\n",
      "DFM Lemm Data Overview:\n",
      "<class 'pandas.core.frame.DataFrame'>\n",
      "RangeIndex: 8751 entries, 0 to 8750\n",
      "Columns: 3299 entries, Unnamed: 0 to titulaire\n",
      "dtypes: float64(3090), int64(179), object(30)\n",
      "memory usage: 220.3+ MB\n",
      "None\n",
      "   Unnamed: 0            doc_id  voilà  ,  bonjour  à  tout  .  alors  on  \\\n",
      "0           1  cl06_pr2_text1_1      1  2      1.0  1     1  4      1   2   \n",
      "1           2  cl06_pr2_text1_2      1  2      0.0  2     0  4      1   0   \n",
      "2           3  cl06_pr2_text2_1      0  3      0.0  0     0  1      1   0   \n",
      "3           4  cl06_pr2_text3_1      0  3      0.0  0     0  3      1   1   \n",
      "4           5  cl06_pr2_text4_1      0  0      0.0  0     0  1      0   0   \n",
      "\n",
      "   ...  fixe  possession  repréciser  récapituler  synthèse  incorporer  \\\n",
      "0  ...   NaN         NaN         NaN          NaN       NaN         NaN   \n",
      "1  ...   NaN         NaN         NaN          NaN       NaN         NaN   \n",
      "2  ...   NaN         NaN         NaN          NaN       NaN         NaN   \n",
      "3  ...   NaN         NaN         NaN          NaN       NaN         NaN   \n",
      "4  ...   NaN         NaN         NaN          NaN       NaN         NaN   \n",
      "\n",
      "   mécanique  adonner  chaîne  titulaire  \n",
      "0        NaN      NaN     NaN        NaN  \n",
      "1        NaN      NaN     NaN        NaN  \n",
      "2        NaN      NaN     NaN        NaN  \n",
      "3        NaN      NaN     NaN        NaN  \n",
      "4        NaN      NaN     NaN        NaN  \n",
      "\n",
      "[5 rows x 3299 columns]\n",
      "\n",
      "DFM Unlemm Data Overview:\n",
      "<class 'pandas.core.frame.DataFrame'>\n",
      "RangeIndex: 8751 entries, 0 to 8750\n",
      "Columns: 5275 entries, Unnamed: 0 to entrés\n",
      "dtypes: float64(5021), int64(224), object(30)\n",
      "memory usage: 352.2+ MB\n",
      "None\n",
      "   Unnamed: 0            doc_id  alors   ,  combien    v  …  êtes  vous  ?  \\\n",
      "0           1  cl07_pr2_text1_1      1  14        1  1.0  2     1     1  2   \n",
      "1           2  cl07_pr2_text2_1      0   0        0  0.0  2     0     0  0   \n",
      "2           3  cl07_pr2_text3_1      0   3        0  0.0  0     0     0  0   \n",
      "3           4  cl07_pr2_text4_1      0   0        0  0.0  0     0     0  0   \n",
      "4           5  cl07_pr2_text5_1      1   2        0  0.0  5     0     3  1   \n",
      "\n",
      "   ...  impeccable  prévoyez  contrôles  colimaçon  comm  trops  reviennent  \\\n",
      "0  ...         NaN       NaN        NaN        NaN   NaN    NaN         NaN   \n",
      "1  ...         NaN       NaN        NaN        NaN   NaN    NaN         NaN   \n",
      "2  ...         NaN       NaN        NaN        NaN   NaN    NaN         NaN   \n",
      "3  ...         NaN       NaN        NaN        NaN   NaN    NaN         NaN   \n",
      "4  ...         NaN       NaN        NaN        NaN   NaN    NaN         NaN   \n",
      "\n",
      "   labyrinthe  interromps  entrés  \n",
      "0         NaN         NaN     NaN  \n",
      "1         NaN         NaN     NaN  \n",
      "2         NaN         NaN     NaN  \n",
      "3         NaN         NaN     NaN  \n",
      "4         NaN         NaN     NaN  \n",
      "\n",
      "[5 rows x 5275 columns]\n",
      "\n",
      "Data loading complete. CSVs saved for reference.\n"
     ]
    }
   ],
   "source": [
    "import pandas as pd\n",
    "import os\n",
    "import glob\n",
    "import matplotlib.pyplot as plt\n",
    "import seaborn as sns\n",
    "import numpy as np\n",
    "from sklearn.decomposition import PCA\n",
    "from sklearn.feature_extraction.text import TfidfTransformer\n",
    "\n",
    "# Step 1: Define the folder path (Modify this if needed)\n",
    "folder_path = \"data/teacher_discourse_data\"\n",
    "\n",
    "# Step 2: Check if the folder exists\n",
    "if not os.path.exists(folder_path):\n",
    "    print(f\"Error: Directory '{folder_path}' does not exist. Please check the path.\")\n",
    "else:\n",
    "    print(f\"Directory '{folder_path}' found.\\nListing available files...\\n\")\n",
    "\n",
    "    # Step 3: List available files in the directory\n",
    "    available_files = os.listdir(folder_path)\n",
    "    print(\"Files in directory:\", available_files)\n",
    "\n",
    "    # Step 4: Categorize files into three lists\n",
    "    corpus_files = glob.glob(os.path.join(folder_path, \"*corpus_segm_unlemm_full.csv\"))\n",
    "    dfm_lemm_files = glob.glob(os.path.join(folder_path, \"*dfm_segm_lemm_full.csv\"))\n",
    "    dfm_unlemm_files = glob.glob(os.path.join(folder_path, \"*dfm_segm_unlemm_full.csv\"))\n",
    "\n",
    "    # Step 5: Load the files into Pandas DataFrames\n",
    "    def load_files(file_list, description):\n",
    "        \"\"\"Loads CSV files from a list into a single DataFrame.\"\"\"\n",
    "        if file_list:\n",
    "            print(f\"Loading {description} ({len(file_list)} files)...\")\n",
    "            return pd.concat([pd.read_csv(f) for f in file_list], ignore_index=True)\n",
    "        else:\n",
    "            print(f\"No files found for {description}.\")\n",
    "            return pd.DataFrame()  # Return empty DataFrame if no files\n",
    "\n",
    "    df_corpus = load_files(corpus_files, \"Corpus Data\")\n",
    "    df_dfm_lemm = load_files(dfm_lemm_files, \"DFM Lemm Data\")\n",
    "    df_dfm_unlemm = load_files(dfm_unlemm_files, \"DFM Unlemm Data\")\n",
    "\n",
    "    # Step 6: Display basic information about each dataset\n",
    "    for name, df in zip([\"Corpus Data\", \"DFM Lemm Data\", \"DFM Unlemm Data\"],\n",
    "                        [df_corpus, df_dfm_lemm, df_dfm_unlemm]):\n",
    "        print(f\"\\n{name} Overview:\")\n",
    "        print(df.info())\n",
    "        print(df.head())\n",
    "\n",
    "    # # Step 7: Save DataFrames for further analysis if needed\n",
    "    # df_corpus.to_csv(\"corpus_data_combined.csv\", index=False)\n",
    "    # df_dfm_lemm.to_csv(\"dfm_lemm_data_combined.csv\", index=False)\n",
    "    # df_dfm_unlemm.to_csv(\"dfm_unlemm_data_combined.csv\", index=False)\n",
    "\n",
    "    print(\"\\nData loading complete. CSVs saved for reference.\")\n"
   ]
  },
  {
   "cell_type": "code",
   "execution_count": 2,
   "metadata": {},
   "outputs": [
    {
     "name": "stdout",
     "output_type": "stream",
     "text": [
      "All tests passed! Concatenation successful.\n"
     ]
    }
   ],
   "source": [
    "# Step 1: Create a dictionary mapping segment_source to concatenated text\n",
    "concatenated_data = {}\n",
    "\n",
    "for index, row in df_corpus.iterrows():\n",
    "    segment_source = row[\"segment_source\"]\n",
    "    text = row[\"text\"]\n",
    "    \n",
    "    if segment_source in concatenated_data:\n",
    "        concatenated_data[segment_source] += \" \" + text\n",
    "    else:\n",
    "        concatenated_data[segment_source] = text\n",
    "\n",
    "# Step 2: Create a new DataFrame with one row per segment_source\n",
    "import pandas as pd\n",
    "\n",
    "# Get one row per segment_source (to preserve other columns)\n",
    "df_deduplicated = df_corpus.drop_duplicates(subset=[\"segment_source\"])\n",
    "\n",
    "# Update the text column with our concatenated text\n",
    "for index, row in df_deduplicated.iterrows():\n",
    "    segment_source = row[\"segment_source\"]\n",
    "    df_deduplicated.at[index, \"text\"] = concatenated_data[segment_source]\n",
    "\n",
    "# Step 3: Test that the transformation worked correctly\n",
    "def test_concatenation():\n",
    "    # Count unique segment sources in original dataframe\n",
    "    original_unique_sources = df_corpus[\"segment_source\"].nunique()\n",
    "    \n",
    "    # Count rows in new dataframe\n",
    "    new_row_count = len(df_deduplicated)\n",
    "    \n",
    "    # Test 1: Verify we have exactly one row per segment_source\n",
    "    assert original_unique_sources == new_row_count, \"Number of rows doesn't match number of unique segment sources\"\n",
    "    \n",
    "    # Test 2: Verify all segments are preserved in the concatenated text\n",
    "    for segment_source in df_deduplicated[\"segment_source\"].unique():\n",
    "        # Get all original texts for this segment source\n",
    "        original_texts = df_corpus[df_corpus[\"segment_source\"] == segment_source][\"text\"].tolist()\n",
    "        \n",
    "        # Get the concatenated text\n",
    "        concatenated_text = df_deduplicated[df_deduplicated[\"segment_source\"] == segment_source][\"text\"].iloc[0]\n",
    "        \n",
    "        # Check that each original text is contained in the concatenated text\n",
    "        for text in original_texts:\n",
    "            assert text in concatenated_text, f\"Missing text in concatenation for {segment_source}\"\n",
    "    \n",
    "    print(\"All tests passed! Concatenation successful.\")\n",
    "\n",
    "# Run the test\n",
    "test_concatenation()"
   ]
  },
  {
   "cell_type": "code",
   "execution_count": 3,
   "metadata": {},
   "outputs": [
    {
     "name": "stderr",
     "output_type": "stream",
     "text": [
      "/var/folders/0k/43ckgrhd7cd68vbpqrmw9r240000gn/T/ipykernel_59836/3042118491.py:3: SettingWithCopyWarning: \n",
      "A value is trying to be set on a copy of a slice from a DataFrame.\n",
      "Try using .loc[row_indexer,col_indexer] = value instead\n",
      "\n",
      "See the caveats in the documentation: https://pandas.pydata.org/pandas-docs/stable/user_guide/indexing.html#returning-a-view-versus-a-copy\n",
      "  df_deduplicated[\"text_length\"] = df_deduplicated[\"text\"].apply(lambda x: len(str(x).split()))\n"
     ]
    },
    {
     "data": {
      "image/png": "[encoded data removed]",
      "text/plain": [
       "<Figure size 1000x500 with 1 Axes>"
      ]
     },
     "metadata": {},
     "output_type": "display_data"
    },
    {
     "name": "stderr",
     "output_type": "stream",
     "text": [
      "/var/folders/0k/43ckgrhd7cd68vbpqrmw9r240000gn/T/ipykernel_59836/3042118491.py:14: FutureWarning: \n",
      "\n",
      "Passing `palette` without assigning `hue` is deprecated and will be removed in v0.14.0. Assign the `y` variable to `hue` and set `legend=False` for the same effect.\n",
      "\n",
      "  sns.barplot(x=topic_counts.values, y=topic_counts.index, palette=\"viridis\")\n"
     ]
    },
    {
     "data": {
      "image/png": "[encoded data removed]",
      "text/plain": [
       "<Figure size 1200x600 with 1 Axes>"
      ]
     },
     "metadata": {},
     "output_type": "display_data"
    },
    {
     "data": {
      "image/png": "[encoded data removed]",
      "text/plain": [
       "<Figure size 800x800 with 1 Axes>"
      ]
     },
     "metadata": {},
     "output_type": "display_data"
    }
   ],
   "source": [
    "if not df_deduplicated.empty:\n",
    "    # (a) Text Length Distribution\n",
    "    df_deduplicated[\"text_length\"] = df_deduplicated[\"text\"].apply(lambda x: len(str(x).split()))\n",
    "    plt.figure(figsize=(10, 5))\n",
    "    sns.histplot(df_deduplicated[\"text_length\"], bins=60, kde=True, color=\"blue\")\n",
    "    plt.xlabel(\"Number of Words per Statement\")\n",
    "    plt.ylabel(\"Frequency\")\n",
    "    plt.title(\"Distribution of Statement Lengths (Corpus Data)\")\n",
    "    plt.show()\n",
    "\n",
    "    # (b) Most Common Topics (lesson_topic)\n",
    "    plt.figure(figsize=(12, 6))\n",
    "    topic_counts = df_deduplicated[\"lesson_topic\"].value_counts()\n",
    "    sns.barplot(x=topic_counts.values, y=topic_counts.index, palette=\"viridis\")\n",
    "    plt.xlabel(\"Count\")\n",
    "    plt.ylabel(\"Lesson Topic\")\n",
    "    plt.title(\"Most Common Lesson Topics (Corpus Data)\")\n",
    "    plt.show()\n",
    "\n",
    "    # (c) Teacher Intent Distribution (pie chart)\n",
    "    plt.figure(figsize=(8, 8))\n",
    "    intent_counts = df_deduplicated[\"teacher_intent\"].value_counts()\n",
    "    intent_counts.plot.pie(autopct=\"%1.1f%%\", startangle=90, colors=sns.color_palette(\"viridis\", len(intent_counts)))\n",
    "    plt.ylabel(\"\")\n",
    "    plt.title(\"Teacher Intent Distribution (Corpus Data)\")\n",
    "    plt.show()\n",
    "else:\n",
    "    print(\"Corpus Data is empty; skipping corpus visualizations.\")\n",
    "\n"
   ]
  },
  {
   "cell_type": "markdown",
   "metadata": {},
   "source": [
    "# clean data"
   ]
  },
  {
   "cell_type": "code",
   "execution_count": 4,
   "metadata": {},
   "outputs": [],
   "source": [
    "import spacy\n",
    "nlp = spacy.load('fr_core_news_sm')\n",
    "\n",
    "def lemmatize_text(text):\n",
    "    \"\"\"Lemmatize text using spaCy's French model\"\"\"\n",
    "    doc = nlp(text)\n",
    "    return ' '.join([token.lemma_ for token in doc])\n",
    "\n",
    "def lower_case(text):\n",
    "    \"\"\"Convert text to lowercase\"\"\"\n",
    "    return text.lower()\n",
    "\n",
    "def data_clean_pandas(df):\n",
    "    \"\"\"Clean the dataframe by filtering and preprocessing the text.\"\"\"\n",
    "    # Create a copy to avoid modifying the original\n",
    "    df_cleaned = df.copy()\n",
    "\n",
    "    # Apply lowercase transformation\n",
    "    df_cleaned['text'] = df_cleaned['text'].apply(lower_case)\n",
    "\n",
    "    # Apply lemmatization\n",
    "    df_cleaned['text'] = df_cleaned['text'].apply(lemmatize_text)\n",
    "    \n",
    "    return df_cleaned"
   ]
  },
  {
   "cell_type": "code",
   "execution_count": 7,
   "metadata": {},
   "outputs": [],
   "source": [
    "# Apply the function to your dataframe\n",
    "df_cleaned = data_clean_pandas(df_deduplicated)"
   ]
  },
  {
   "cell_type": "code",
   "execution_count": null,
   "metadata": {},
   "outputs": [
    {
     "data": {
      "text/plain": [
       "0       alors bonjour à tout ! alors … on être là aujo...\n",
       "1       encore un ! ouai , cela , ce être le avant-der...\n",
       "2       ouai ce être un bon début . quoi de autre ? oui ?\n",
       "3       tu créer le début mais tu créer quoi sur le or...\n",
       "4       le programme … et pouvoir il aller servir à qu...\n",
       "                              ...                        \n",
       "8742    voilà . vous être tout prêt ? comme cela on al...\n",
       "8747                                                oui .\n",
       "8748    alors , euh … je ne savoir pas si pouvoir être...\n",
       "8749    je penser que sur internet , sur le moteur de ...\n",
       "8750    exactement . alors voilà , si ce être bon , je...\n",
       "Name: text, Length: 7304, dtype: object"
      ]
     },
     "execution_count": 43,
     "metadata": {},
     "output_type": "execute_result"
    }
   ],
   "source": [
    "df_cleaned[\"text\"]"
   ]
  },
  {
   "cell_type": "code",
   "execution_count": null,
   "metadata": {},
   "outputs": [],
   "source": [
    "from sentence_transformers import SentenceTransformer\n",
    "\n",
    "# Load the bilingual embedding model\n",
    "model = SentenceTransformer('Lajavaness/bilingual-embedding-small', trust_remote_code=True)\n"
   ]
  },
  {
   "cell_type": "code",
   "execution_count": 6,
   "metadata": {},
   "outputs": [
    {
     "name": "stderr",
     "output_type": "stream",
     "text": [
      "/Users/tijuana/miniconda3/envs/p311/lib/python3.11/site-packages/sentence_transformers/cross_encoder/CrossEncoder.py:13: TqdmWarning: IProgress not found. Please update jupyter and ipywidgets. See https://ipywidgets.readthedocs.io/en/stable/user_install.html\n",
      "  from tqdm.autonotebook import tqdm, trange\n"
     ]
    },
    {
     "ename": "ModuleNotFoundError",
     "evalue": "No module named 'umap'",
     "output_type": "error",
     "traceback": [
      "\u001b[0;31m---------------------------------------------------------------------------\u001b[0m",
      "\u001b[0;31mModuleNotFoundError\u001b[0m                       Traceback (most recent call last)",
      "Cell \u001b[0;32mIn[6], line 2\u001b[0m\n\u001b[1;32m      1\u001b[0m \u001b[38;5;28;01mfrom\u001b[39;00m \u001b[38;5;21;01msentence_transformers\u001b[39;00m \u001b[38;5;28;01mimport\u001b[39;00m SentenceTransformer\n\u001b[0;32m----> 2\u001b[0m \u001b[38;5;28;01mimport\u001b[39;00m \u001b[38;5;21;01mumap\u001b[39;00m\n\u001b[1;32m      3\u001b[0m \u001b[38;5;28;01mimport\u001b[39;00m \u001b[38;5;21;01mplotly\u001b[39;00m\u001b[38;5;21;01m.\u001b[39;00m\u001b[38;5;21;01mexpress\u001b[39;00m \u001b[38;5;28;01mas\u001b[39;00m \u001b[38;5;21;01mpx\u001b[39;00m\n\u001b[1;32m      6\u001b[0m corpus \u001b[38;5;241m=\u001b[39m [row[\u001b[38;5;124m'\u001b[39m\u001b[38;5;124mtext\u001b[39m\u001b[38;5;124m'\u001b[39m]\u001b[38;5;241m.\u001b[39msplit(\u001b[38;5;124m\"\u001b[39m\u001b[38;5;124m \u001b[39m\u001b[38;5;124m\"\u001b[39m) \u001b[38;5;28;01mfor\u001b[39;00m index, row \u001b[38;5;129;01min\u001b[39;00m df_cleaned\u001b[38;5;241m.\u001b[39miterrows()]\n",
      "\u001b[0;31mModuleNotFoundError\u001b[0m: No module named 'umap'"
     ]
    }
   ],
   "source": [
    "from sentence_transformers import SentenceTransformer\n",
    "import umap\n",
    "import plotly.express as px\n",
    "\n",
    "\n",
    "corpus = [row['text'].split(\" \") for index, row in df_cleaned.iterrows()]\n",
    "\n",
    "\n",
    "flat_list = [word for sentence in corpus for word in sentence]\n",
    "\n",
    "tokens = [flat_list]\n",
    "\n",
    "\n",
    "print(tokens[0][:1000])\n",
    "print(len(tokens[0]))\n",
    "# Create embeddings for the corpus\n",
    "\n",
    "\n"
   ]
  },
  {
   "cell_type": "code",
   "execution_count": null,
   "metadata": {},
   "outputs": [],
   "source": [
    "# 3. Encode your corpus into embeddings\n",
    "embeddings = model.encode(flat_list)"
   ]
  },
  {
   "cell_type": "code",
   "execution_count": null,
   "metadata": {},
   "outputs": [
    {
     "name": "stdout",
     "output_type": "stream",
     "text": [
      "(236543, 384)\n"
     ]
    }
   ],
   "source": [
    "# Assuming 'embeddings' is a NumPy array\n",
    "print(embeddings.shape)\n"
   ]
  },
  {
   "cell_type": "code",
   "execution_count": null,
   "metadata": {},
   "outputs": [],
   "source": [
    "import numpy as np\n",
    "\n",
    "np.savetxt('vectors.tsv', embeddings, delimiter='\\t')\n"
   ]
  },
  {
   "cell_type": "code",
   "execution_count": null,
   "metadata": {},
   "outputs": [
    {
     "name": "stdout",
     "output_type": "stream",
     "text": [
      "236543\n"
     ]
    }
   ],
   "source": [
    "print(len(flat_list))"
   ]
  },
  {
   "cell_type": "code",
   "execution_count": null,
   "metadata": {},
   "outputs": [],
   "source": [
    "# Assuming 'metadata' is a list of tuples or lists, each containing metadata attributes\n",
    "with open(\"metadata.tsv\", \"r\") as f:\n",
    "    lines = f.readlines()\n",
    "with open(\"metadata.tsv\", \"w\") as f:\n",
    "    for line in lines:\n",
    "        if line.strip():  # Only write non-empty lines\n",
    "            f.write(line)\n"
   ]
  },
  {
   "cell_type": "code",
   "execution_count": null,
   "metadata": {},
   "outputs": [
    {
     "name": "stdout",
     "output_type": "stream",
     "text": [
      "Embeddings: 236543 rows\n",
      "Metadata: 236543 rows\n"
     ]
    }
   ],
   "source": [
    "print(f\"Embeddings: {embeddings.shape[0]} rows\")  # Number of vectors\n",
    "print(f\"Metadata: {len(flat_list)} rows\")  # Number of labels\n"
   ]
  },
  {
   "cell_type": "code",
   "execution_count": null,
   "metadata": {},
   "outputs": [],
   "source": []
  },
  {
   "cell_type": "code",
   "execution_count": null,
   "metadata": {},
   "outputs": [],
   "source": [
    "with open('metadata.tsv', 'w') as f:\n",
    "    for i in range(len(embeddings)):  # Ensure exact match\n",
    "        label = flat_list[i] if i < len(flat_list) else \"UNKNOWN\"\n",
    "        f.write(f\"{label}\\n\")"
   ]
  },
  {
   "cell_type": "code",
   "execution_count": 17,
   "metadata": {},
   "outputs": [],
   "source": [
    "with open('metadata.tsv', 'w', newline='') as f_output:\n",
    "    tsv_writer = csv.writer(f_output, delimiter='\\t')\n",
    "    tsv_writer.writerows(corpus)"
   ]
  }
 ],
 "metadata": {
  "kernelspec": {
   "display_name": "p311",
   "language": "python",
   "name": "python3"
  },
  "language_info": {
   "codemirror_mode": {
    "name": "ipython",
    "version": 3
   },
   "file_extension": ".py",
   "mimetype": "text/x-python",
   "name": "python",
   "nbconvert_exporter": "python",
   "pygments_lexer": "ipython3",
   "version": "3.11.10"
  }
 },
 "nbformat": 4,
 "nbformat_minor": 2
}
